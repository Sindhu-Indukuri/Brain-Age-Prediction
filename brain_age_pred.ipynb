{
  "nbformat": 4,
  "nbformat_minor": 0,
  "metadata": {
    "colab": {
      "provenance": [],
      "include_colab_link": true
    },
    "kernelspec": {
      "name": "python3",
      "display_name": "Python 3"
    },
    "language_info": {
      "name": "python"
    }
  },
  "cells": [
    {
      "cell_type": "markdown",
      "metadata": {
        "id": "view-in-github",
        "colab_type": "text"
      },
      "source": [
        "<a href=\"https://colab.research.google.com/github/Sindhu-Indukuri/Brain-Age-Prediction/blob/main/brain_age_pred.ipynb\" target=\"_parent\"><img src=\"https://colab.research.google.com/assets/colab-badge.svg\" alt=\"Open In Colab\"/></a>"
      ]
    },
    {
      "cell_type": "code",
      "source": [
        "import os\n",
        "\n",
        "# Step 1: Define the directory containing .nii.gz files\n",
        "nifti_folder_path = '/content/drive/MyDrive/IXI-T1'  # Update this to your NIfTI folder path\n",
        "\n",
        "# Step 2: Initialize a list to store extracted values\n",
        "extracted_ids = []\n",
        "\n",
        "# Step 3: Loop through the files in the directory and extract the IXI parts\n",
        "for filename in os.listdir(nifti_folder_path):\n",
        "    if filename.endswith('.nii.gz'):\n",
        "        # Extract the 3 characters after 'IXI'\n",
        "        ixii_id_part = filename[3:6]  # Get 3 characters after 'IXI'\n",
        "\n",
        "        # Add the extracted ID to the list\n",
        "        extracted_ids.append(ixii_id_part)\n",
        "\n",
        "# Step 4: Sort the extracted IDs in ascending order\n",
        "sorted_ids = sorted(set(extracted_ids))  # Use set to remove duplicates if needed\n",
        "\n",
        "# Step 5: Display the sorted IDs\n",
        "print(\"Sorted IXI ID parts:\", sorted_ids)\n"
      ],
      "metadata": {
        "colab": {
          "base_uri": "https://localhost:8080/"
        },
        "id": "yeImfMIm4jy0",
        "outputId": "e17cf7b8-71bd-4e5e-a3b1-55b6759cad0c"
      },
      "execution_count": null,
      "outputs": [
        {
          "output_type": "stream",
          "name": "stdout",
          "text": [
            "Sorted IXI ID parts: ['002', '012', '013', '014', '015', '016', '017', '019', '020', '021', '022', '023', '024', '025', '026', '027', '028', '029', '030', '031', '033', '034', '035', '036', '037', '038', '039', '040', '041', '042', '043', '044', '045', '046', '048', '049', '050', '051', '052', '053', '054', '055', '056', '057', '058', '059', '060', '061', '062', '063', '064', '065', '066', '067', '068', '069', '070', '071', '072', '073', '074', '075', '076', '077', '078', '079', '080', '081', '083', '084', '085', '086', '087', '088', '089', '090', '091', '092', '093', '094', '095', '096', '097', '098', '099', '100', '101', '102', '103', '104', '105', '106', '107', '108', '109', '110', '111', '112', '113', '114', '115', '116', '117', '118', '119', '120', '121', '122', '123', '126', '127', '128', '129', '130', '131', '132', '134', '135', '136', '137', '138', '139', '140', '141', '142', '143', '144', '145', '146', '148', '150', '151', '153', '154', '156', '157', '158', '159', '160', '161', '162', '163', '164', '165', '166', '167', '168', '169', '170', '172', '173', '174', '175', '176', '177', '178', '179', '180', '181', '182', '183', '184', '185', '186', '188', '189', '191', '192', '193', '194', '195', '196', '197', '198', '199', '200', '201', '202', '204', '205', '206', '207', '208', '209', '210', '211', '212', '213', '214', '216', '217', '218', '219', '221', '222', '223', '224', '225', '226', '227', '228', '229', '230', '231', '232', '233', '234', '236', '237', '238', '239', '240', '241', '242', '244', '246', '247', '248', '249', '250', '251', '252', '253', '254', '255', '256', '257', '258', '259', '260', '261', '262', '263', '264', '265', '266', '267', '268', '269', '270', '274', '275', '276', '277', '278', '279', '280', '282', '284', '285', '286', '287', '288', '289', '290', '291', '292', '293', '294', '295', '296', '297', '298', '299', '300', '302', '303', '304', '305', '306', '307', '308', '309', '310', '311', '312', '313', '314', '315', '316', '317', '318', '319', '320', '321', '322', '324', '325', '326', '327', '328', '329', '330', '331', '332', '333', '334', '335', '336', '337', '338', '340', '341', '342', '344', '345', '347', '348', '350', '351', '353', '354', '356', '357', '358', '359', '360', '361', '362', '363', '364', '365', '367', '368', '369', '370', '371', '372', '373', '375', '376', '377', '378', '379', '380', '381', '382', '383', '384', '385', '386', '387', '388', '389', '390', '391', '392', '393', '394', '395', '396', '397', '398', '399', '400', '401', '402', '403', '404', '405', '406', '407', '408', '409', '410', '411', '412', '413', '414', '415', '416', '417', '418', '419', '420', '422', '423', '424', '425', '426', '427', '428', '429', '430', '431', '432', '433', '434', '435', '436', '437', '438', '439', '440', '441', '442', '443', '444', '445', '446', '447', '448', '449', '450', '451', '452', '453', '454', '455', '456', '457', '458', '459', '460', '461', '462', '463', '464', '465', '467', '468', '469', '470', '473', '474', '475', '476', '477', '478', '479', '480', '481', '482', '483', '484', '485', '486', '487', '488', '489', '490', '491', '492', '493', '494', '495', '496', '497', '498', '499', '500', '501', '502', '503', '504', '505', '506', '507', '508', '510', '511', '512', '515', '516', '517', '518', '519', '521', '522', '523', '524', '525', '526', '527', '528', '531', '532', '533', '534', '535', '536', '537', '538', '539', '541', '542', '543', '544', '546', '547', '548', '549', '550', '551', '552', '553', '554', '555', '556', '558', '559', '560', '561', '562', '563', '565', '566', '567', '568', '569', '571', '572', '573', '574', '575', '576', '577', '578', '579', '582', '584', '585', '586', '587', '588', '589', '591', '592', '593', '594', '595', '596', '597', '598', '599', '600', '601', '603', '605', '606', '607', '608', '609', '610', '611', '612', '613', '614', '616', '617', '618', '619', '621', '622', '623', '625', '626', '627', '629', '630', '631', '632', '633', '634', '635', '636', '637', '638', '639', '640', '641', '642', '643', '644', '646', '648', '651', '652', '653', '661', '662']\n"
          ]
        }
      ]
    },
    {
      "cell_type": "code",
      "source": [
        "from google.colab import drive\n",
        "drive.mount('/content/drive')"
      ],
      "metadata": {
        "colab": {
          "base_uri": "https://localhost:8080/"
        },
        "id": "dB7Rx_8hcuG1",
        "outputId": "ef8b877c-c666-4a9e-b393-9a94e98aec20"
      },
      "execution_count": null,
      "outputs": [
        {
          "output_type": "stream",
          "name": "stdout",
          "text": [
            "Mounted at /content/drive\n"
          ]
        }
      ]
    },
    {
      "cell_type": "code",
      "source": [
        "import pandas as pd\n",
        "import os\n",
        "\n",
        "# Step 1: Define the directory containing .nii.gz files\n",
        "nifti_folder_path = '/content/drive/MyDrive/IXI-E0'  # Update this to your NIfTI folder path\n",
        "\n",
        "# Step 2: Check if the NIfTI folder is empty\n",
        "if not os.listdir(nifti_folder_path):\n",
        "    print(\"The NIfTI folder is empty. Please add brain images to proceed.\")\n",
        "else:\n",
        "    # Step 3: Initialize a dictionary to map sorted IDs to filenames\n",
        "    id_to_filename = {}\n",
        "\n",
        "    # Step 4: Loop through the files in the directory and extract the IXI parts\n",
        "    for filename in os.listdir(nifti_folder_path):\n",
        "        if filename.endswith('.nii.gz'):\n",
        "            # Extract the 3 characters after 'IXI'\n",
        "            ixii_id_part = filename[3:6]  # Get 3 characters after 'IXI'\n",
        "\n",
        "            # Add the filename to the dictionary under the corresponding ID\n",
        "            id_to_filename[ixii_id_part] = filename\n",
        "\n",
        "    # Step 5: Sort the extracted IDs\n",
        "    sorted_ids = sorted(id_to_filename.keys())  # Get sorted unique IDs\n",
        "\n",
        "    # Step 6: Read the existing CSV file\n",
        "    csv_file_path = '/content/drive/MyDrive/mini_proj(dataset).csv'  # Update the path if needed\n",
        "    df = pd.read_csv(csv_file_path)\n",
        "\n",
        "    # Step 7: Initialize a new column for the brain image filenames\n",
        "    df['Brain_Image'] = None\n",
        "\n",
        "    # Step 8: Populate the Brain_Image column based on sorted IDs\n",
        "    for ixii_id in sorted_ids:\n",
        "        # Construct the full IXI_ID if needed (e.g., 'ixi012')\n",
        "        ixii_full_id = f'ixi{ixii_id}'  # Assuming IXI_ID format in CSV is 'ixiXXX'\n",
        "\n",
        "        # Check if IXI_ID exists in the DataFrame and update the Brain_Image column\n",
        "        if ixii_full_id in df['IXI_ID'].values:\n",
        "            df.loc[df['IXI_ID'] == ixii_full_id, 'Brain_Image'] = id_to_filename[ixii_id]\n",
        "\n",
        "    # Step 9: Save the updated DataFrame to a new CSV file or overwrite the existing one\n",
        "    df.to_csv('/content/drive/MyDrive/merged.csv', index=False)  # Change filename if necessary\n",
        "\n",
        "    print(\"Brain images mapped to IXI_IDs and saved to 'updated_IXI.csv'.\")\n"
      ],
      "metadata": {
        "colab": {
          "base_uri": "https://localhost:8080/"
        },
        "id": "BB01KB-R4-N6",
        "outputId": "39cec991-d2dc-4aa2-8118-4a57c4031937"
      },
      "execution_count": null,
      "outputs": [
        {
          "output_type": "stream",
          "name": "stdout",
          "text": [
            "Brain images mapped to IXI_IDs and saved to 'updated_IXI.csv'.\n"
          ]
        }
      ]
    },
    {
      "cell_type": "code",
      "source": [
        "\n",
        "\n",
        "import os\n",
        "import pandas as pd\n",
        "\n",
        "# Step 1: Define the directory containing .nii.gz files\n",
        "nifti_folder_path = '/content/drive/MyDrive/IXI-E0'  # Update this to your NIfTI folder path\n",
        "\n",
        "# Step 2: Initialize a list to store the filenames\n",
        "filenames = []\n",
        "\n",
        "# Step 3: Loop through the files in the directory and collect the filenames\n",
        "for filename in os.listdir(nifti_folder_path):\n",
        "    if filename.endswith('.nii.gz'):\n",
        "        filenames.append(filename)\n",
        "\n",
        "# Step 4: Sort the filenames in ascending order\n",
        "sorted_filenames = sorted(filenames)\n",
        "\n",
        "# Step 5: Create a DataFrame from the sorted filenames\n",
        "df = pd.DataFrame(sorted_filenames, columns=['Brain_Image'])\n",
        "\n",
        "# Step 6: Save the DataFrame to a CSV file\n",
        "output_csv_path = '/content/drive/MyDrive/merged.csv'  # Update the path if needed\n",
        "df.to_csv(output_csv_path, index=False)\n",
        "\n",
        "print(f\"Sorted filenames of brain images have been saved to '{output_csv_path}'.\")\n"
      ],
      "metadata": {
        "colab": {
          "base_uri": "https://localhost:8080/"
        },
        "id": "XupfS16I6BWM",
        "outputId": "819f0f89-c73c-45b7-a6bc-2223de34a56e"
      },
      "execution_count": null,
      "outputs": [
        {
          "output_type": "stream",
          "name": "stdout",
          "text": [
            "Sorted filenames of brain images have been saved to '/content/drive/MyDrive/merged.csv'.\n"
          ]
        }
      ]
    },
    {
      "cell_type": "code",
      "source": [
        "import pandas as pd\n",
        "\n",
        "# Step 1: Read the two CSV files\n",
        "csv_file1_path = '/content/drive/MyDrive/merged.csv'  # Update with your first CSV file path\n",
        "csv_file2_path = '/content/drive/MyDrive/merged.csv'  # Update with your second CSV file path\n",
        "\n",
        "# Load the CSV files into DataFrames\n",
        "df1 = pd.read_csv(csv_file1_path)\n",
        "df2 = pd.read_csv(csv_file2_path)\n",
        "\n",
        "# Step 2: Ensure both DataFrames have the same number of rows\n",
        "if len(df1) != len(df2):\n",
        "    print(\"Warning: The two CSV files do not have the same number of entries.\")\n",
        "    min_length = min(len(df1), len(df2))\n",
        "    df1 = df1.head(min_length)  # Adjust df1 to the shorter length\n",
        "    df2 = df2.head(min_length)  # Adjust df2 to the shorter length\n",
        "\n",
        "# Step 3: Create a new column in df1 with values from df2\n",
        "df1['New_Column'] = df2.iloc[:, 0]  # Add the first column of df2 to df1\n",
        "\n",
        "# Step 4: Save the merged DataFrame to a new CSV file\n",
        "output_csv_path = '/content/drive/MyDrive/merged.csv'  # Update with your desired output file path\n",
        "df1.to_csv(output_csv_path, index=False)\n",
        "\n",
        "print(f\"Merged CSV file has been saved to '{output_csv_path}'.\")\n"
      ],
      "metadata": {
        "colab": {
          "base_uri": "https://localhost:8080/"
        },
        "id": "OFdQpkiW8Z6s",
        "outputId": "ed44cc73-9d48-48f6-880c-b958a87bfea2"
      },
      "execution_count": null,
      "outputs": [
        {
          "output_type": "stream",
          "name": "stdout",
          "text": [
            "Merged CSV file has been saved to '/content/drive/MyDrive/merged.csv'.\n"
          ]
        }
      ]
    },
    {
      "cell_type": "code",
      "source": [
        "import os\n",
        "import pandas as pd\n",
        "\n",
        "# Step 1: Define the paths\n",
        "csv_file_path = '/content/drive/MyDrive/mini_proj(dataset).csv'  # Update with your CSV file path\n",
        "nifti_folder_path = '/content/drive/MyDrive/IXI-E0'  # Update with your NIfTI folder path\n",
        "output_csv_path = '/content/drive/MyDrive/processed_file.csv'  # Update with your desired output file path\n",
        "\n",
        "# Step 2: Read the IXI_IDs from the CSV file\n",
        "df = pd.read_csv(csv_file_path)\n",
        "ixi_ids = df['IXI_ID'].drop_duplicates().tolist()  # Extract and ensure unique IXI_IDs\n",
        "\n",
        "# Step 3: Extract 3 characters after 'IXI' from each NIfTI file and check against IXI_IDs\n",
        "nifti_data = []\n",
        "for filename in os.listdir(nifti_folder_path):\n",
        "    if filename.endswith('.nii.gz'):\n",
        "        if 'IXI' in filename:\n",
        "            index = filename.find('IXI')\n",
        "            if index != -1 and index + 3 < len(filename):\n",
        "                nifti_id = filename[index + 3:index + 6]  # Get 3 characters after 'IXI'\n",
        "                nifti_data.append(nifti_id)\n",
        "\n",
        "# Step 4: Sort the extracted NIfTI IDs\n",
        "sorted_nifti_ids = sorted(set(nifti_data))  # Remove duplicates and sort\n",
        "\n",
        "# Step 5: Create a DataFrame to hold the results\n",
        "result_df = pd.DataFrame(sorted_nifti_ids, columns=['NIfTI_ID'])\n",
        "\n",
        "# Step 6: Add a new column indicating whether NIfTI_ID exists in IXI_IDs\n",
        "result_df['Exists_in_IXI_ID'] = result_df['NIfTI_ID'].apply(lambda x: x if x in ixi_ids else None)\n",
        "\n",
        "# Step 7: Save the final DataFrame to a new CSV file\n",
        "result_df.to_csv(output_csv_path, index=False)\n",
        "\n",
        "print(f\"Processed NIfTI IDs with existence check have been saved to '{output_csv_path}'.\")\n"
      ],
      "metadata": {
        "colab": {
          "base_uri": "https://localhost:8080/"
        },
        "id": "XKtAUFuE_O1F",
        "outputId": "9794b093-bf38-4461-fbcf-aa3307d0b06a"
      },
      "execution_count": null,
      "outputs": [
        {
          "output_type": "stream",
          "name": "stdout",
          "text": [
            "Processed NIfTI IDs with existence check have been saved to '/content/drive/MyDrive/processed_file.csv'.\n"
          ]
        }
      ]
    },
    {
      "cell_type": "code",
      "source": [
        "import pandas as pd\n",
        "\n",
        "# Load the CSV file\n",
        "file_path = '/content/merged_file1.csv'\n",
        "df = pd.read_csv(file_path)\n",
        "\n",
        "# Select the first 25 entries\n",
        "first_25_entries = df.head(25)\n",
        "\n",
        "# Save the new file with the first 25 entries\n",
        "output_file_path = '/content/drive/MyDrive/IXI_first_25_entries.csv'\n",
        "first_25_entries.to_csv(output_file_path, index=False)\n",
        "\n",
        "print(\"New file created:\", output_file_path)\n"
      ],
      "metadata": {
        "colab": {
          "base_uri": "https://localhost:8080/"
        },
        "id": "E87c3V5XDc4g",
        "outputId": "7540548f-60b0-456d-e58e-317896d5647b"
      },
      "execution_count": null,
      "outputs": [
        {
          "output_type": "stream",
          "name": "stdout",
          "text": [
            "New file created: /content/drive/MyDrive/IXI_first_25_entries.csv\n"
          ]
        }
      ]
    },
    {
      "cell_type": "code",
      "source": [
        "import numpy as np\n",
        "import nibabel as nib\n",
        "import os\n",
        "import pandas as pd\n",
        "from tensorflow.keras.utils import Sequence\n",
        "from sklearn.model_selection import train_test_split\n",
        "from tensorflow.keras import layers, models\n",
        "from tensorflow.keras.optimizers import Adam\n",
        "\n",
        "# Step 1: Define a generator to load and preprocess images in batches\n",
        "class BrainImageGenerator(Sequence):\n",
        "    def __init__(self, image_paths, ages, batch_size):\n",
        "        self.image_paths = image_paths\n",
        "        self.ages = ages\n",
        "        self.batch_size = batch_size\n",
        "\n",
        "    def __len__(self):\n",
        "        # Ensure at least one batch is generated even if len(self.image_paths) < self.batch_size\n",
        "        return int(np.ceil(len(self.image_paths) / float(self.batch_size)))\n",
        "\n",
        "    def __getitem__(self, idx):\n",
        "        batch_x = self.image_paths[idx * self.batch_size:(idx + 1) * self.batch_size]\n",
        "        batch_y = self.ages[idx * self.batch_size:(idx + 1) * self.batch_size]\n",
        "\n",
        "        images = []\n",
        "        for image_path in batch_x:\n",
        "            # Load the NIfTI image\n",
        "            img = nib.load(image_path).get_fdata()\n",
        "\n",
        "            # Resize to a smaller size, e.g., 64x64 instead of 128x128 to save memory\n",
        "            img = np.resize(img, (64, 64))\n",
        "\n",
        "            # Add channel dimension (e.g., from (64, 64) to (64, 64, 1))\n",
        "            img = img[..., np.newaxis]\n",
        "\n",
        "            # Normalize the image (optional, depending on the model)\n",
        "            img = img.astype('float32') / 255.0\n",
        "\n",
        "            images.append(img)\n",
        "\n",
        "        return np.array(images), np.array(batch_y)\n",
        "\n",
        "\n",
        "# Step 2: Load the data and split it into training and testing sets\n",
        "csv_file = '/content/drive/MyDrive/IXI_first_25_entries.csv'  # Path to the CSV file\n",
        "image_dir = '/content/drive/MyDrive/IXI-E0'  # Path to the directory containing NIfTI images\n",
        "\n",
        "# Read the CSV file\n",
        "labels_df = pd.read_csv(csv_file)\n",
        "\n",
        "# Construct full image paths\n",
        "labels_df['image_path'] = labels_df['New_Column'].apply(lambda x: os.path.join(image_dir, x))\n",
        "\n",
        "# Get the list of image paths and ages\n",
        "image_paths = labels_df['image_path'].tolist()\n",
        "ages = labels_df['AGE'].tolist()\n",
        "\n",
        "# Split the data into training and testing sets (80% train, 20% test)\n",
        "image_paths_train, image_paths_test, ages_train, ages_test = train_test_split(image_paths, ages, test_size=0.2, random_state=42)\n",
        "\n",
        "# Set batch size\n",
        "batch_size = 8\n",
        "\n",
        "# Create training and testing generators\n",
        "train_gen = BrainImageGenerator(image_paths_train, ages_train, batch_size)\n",
        "test_gen = BrainImageGenerator(image_paths_test, ages_test, batch_size)\n",
        "\n"
      ],
      "metadata": {
        "id": "nUTuhPDiDzqj"
      },
      "execution_count": null,
      "outputs": []
    },
    {
      "cell_type": "code",
      "source": [
        "\n",
        "# Step 3: Build the CNN model\n",
        "def build_cnn_model(input_shape):\n",
        "    model = models.Sequential()\n",
        "\n",
        "    # First convolutional layer\n",
        "    model.add(layers.Conv2D(32, (3, 3), activation='relu', input_shape=input_shape))\n",
        "    model.add(layers.MaxPooling2D((2, 2)))\n",
        "\n",
        "    # Second convolutional layer\n",
        "    model.add(layers.Conv2D(64, (3, 3), activation='relu'))\n",
        "    model.add(layers.MaxPooling2D((2, 2)))\n",
        "\n",
        "    # Third convolutional layer\n",
        "    model.add(layers.Conv2D(128, (3, 3), activation='relu'))\n",
        "    model.add(layers.MaxPooling2D((2, 2)))\n",
        "\n",
        "    # Flatten the feature maps and add dense layers\n",
        "    model.add(layers.Flatten())\n",
        "    model.add(layers.Dense(128, activation='relu'))\n",
        "    model.add(layers.Dense(64, activation='relu'))\n",
        "\n",
        "    # Output layer for regression (predicting brain age)\n",
        "    model.add(layers.Dense(1))  # Single output for age prediction\n",
        "\n",
        "    return model\n",
        "\n"
      ],
      "metadata": {
        "id": "wnUtKN_8EF9U"
      },
      "execution_count": null,
      "outputs": []
    },
    {
      "cell_type": "code",
      "source": [
        "\n",
        "# Step 4: Compile the model\n",
        "input_shape = (64, 64, 1)  # Smaller input shape due to resizing\n",
        "model = build_cnn_model(input_shape)\n",
        "model.compile(optimizer='adam', loss='mse', metrics=['mae', 'mse'])\n",
        "\n"
      ],
      "metadata": {
        "colab": {
          "base_uri": "https://localhost:8080/"
        },
        "id": "GKJ7lT-HEHaU",
        "outputId": "c72f93e9-96eb-451b-89fc-63ab588135b7"
      },
      "execution_count": null,
      "outputs": [
        {
          "output_type": "stream",
          "name": "stderr",
          "text": [
            "/usr/local/lib/python3.10/dist-packages/keras/src/layers/convolutional/base_conv.py:107: UserWarning: Do not pass an `input_shape`/`input_dim` argument to a layer. When using Sequential models, prefer using an `Input(shape)` object as the first layer in the model instead.\n",
            "  super().__init__(activity_regularizer=activity_regularizer, **kwargs)\n"
          ]
        }
      ]
    },
    {
      "cell_type": "code",
      "source": [
        "\n",
        "history = model.fit(train_gen, epochs=10, validation_data=test_gen)\n"
      ],
      "metadata": {
        "colab": {
          "base_uri": "https://localhost:8080/"
        },
        "id": "5D_69jpXEMRJ",
        "outputId": "9a67e110-78ec-49cf-a9a6-e73cb08556dd"
      },
      "execution_count": null,
      "outputs": [
        {
          "output_type": "stream",
          "name": "stdout",
          "text": [
            "Epoch 1/10\n",
            "\u001b[1m3/3\u001b[0m \u001b[32m━━━━━━━━━━━━━━━━━━━━\u001b[0m\u001b[37m\u001b[0m \u001b[1m17s\u001b[0m 3s/step - loss: 1368.3241 - mae: 34.7602 - mse: 1368.3241 - val_loss: 1040.9739 - val_mae: 31.2495 - val_mse: 1040.9739\n",
            "Epoch 2/10\n",
            "\u001b[1m3/3\u001b[0m \u001b[32m━━━━━━━━━━━━━━━━━━━━\u001b[0m\u001b[37m\u001b[0m \u001b[1m17s\u001b[0m 1s/step - loss: 1253.9741 - mae: 33.4262 - mse: 1253.9741 - val_loss: 1015.8434 - val_mae: 30.8437 - val_mse: 1015.8434\n",
            "Epoch 3/10\n",
            "\u001b[1m3/3\u001b[0m \u001b[32m━━━━━━━━━━━━━━━━━━━━\u001b[0m\u001b[37m\u001b[0m \u001b[1m19s\u001b[0m 1s/step - loss: 1760.4531 - mae: 39.1385 - mse: 1760.4531 - val_loss: 909.5793 - val_mae: 29.0657 - val_mse: 909.5793\n",
            "Epoch 4/10\n",
            "\u001b[1m3/3\u001b[0m \u001b[32m━━━━━━━━━━━━━━━━━━━━\u001b[0m\u001b[37m\u001b[0m \u001b[1m12s\u001b[0m 1s/step - loss: 1543.0977 - mae: 36.2001 - mse: 1543.0977 - val_loss: 585.1940 - val_mae: 22.7976 - val_mse: 585.1940\n",
            "Epoch 5/10\n",
            "\u001b[1m3/3\u001b[0m \u001b[32m━━━━━━━━━━━━━━━━━━━━\u001b[0m\u001b[37m\u001b[0m \u001b[1m12s\u001b[0m 1s/step - loss: 484.2144 - mae: 19.5086 - mse: 484.2144 - val_loss: 74.1996 - val_mae: 7.3001 - val_mse: 74.1996\n",
            "Epoch 6/10\n",
            "\u001b[1m3/3\u001b[0m \u001b[32m━━━━━━━━━━━━━━━━━━━━\u001b[0m\u001b[37m\u001b[0m \u001b[1m25s\u001b[0m 1s/step - loss: 424.3480 - mae: 16.5813 - mse: 424.3480 - val_loss: 303.3328 - val_mae: 15.3238 - val_mse: 303.3328\n",
            "Epoch 7/10\n",
            "\u001b[1m3/3\u001b[0m \u001b[32m━━━━━━━━━━━━━━━━━━━━\u001b[0m\u001b[37m\u001b[0m \u001b[1m11s\u001b[0m 1s/step - loss: 421.9585 - mae: 16.9565 - mse: 421.9585 - val_loss: 67.6715 - val_mae: 6.9127 - val_mse: 67.6715\n",
            "Epoch 8/10\n",
            "\u001b[1m3/3\u001b[0m \u001b[32m━━━━━━━━━━━━━━━━━━━━\u001b[0m\u001b[37m\u001b[0m \u001b[1m21s\u001b[0m 1s/step - loss: 214.3240 - mae: 8.4598 - mse: 214.3240 - val_loss: 156.1111 - val_mae: 9.5337 - val_mse: 156.1111\n",
            "Epoch 9/10\n",
            "\u001b[1m3/3\u001b[0m \u001b[32m━━━━━━━━━━━━━━━━━━━━\u001b[0m\u001b[37m\u001b[0m \u001b[1m12s\u001b[0m 1s/step - loss: 283.4984 - mae: 11.1997 - mse: 283.4984 - val_loss: 167.3155 - val_mae: 10.0590 - val_mse: 167.3155\n",
            "Epoch 10/10\n",
            "\u001b[1m3/3\u001b[0m \u001b[32m━━━━━━━━━━━━━━━━━━━━\u001b[0m\u001b[37m\u001b[0m \u001b[1m12s\u001b[0m 1s/step - loss: 329.3748 - mae: 12.2079 - mse: 329.3748 - val_loss: 81.6382 - val_mae: 7.4868 - val_mse: 81.6382\n"
          ]
        }
      ]
    },
    {
      "cell_type": "code",
      "source": [
        "# Step 6: Evaluate the model on the test set\n",
        "test_loss, test_mae, test_mse = model.evaluate(test_gen)\n",
        "print(f\"Test Loss (MSE): {test_mse}\")\n",
        "print(f\"Test MAE: {test_mae}\")\n"
      ],
      "metadata": {
        "colab": {
          "base_uri": "https://localhost:8080/"
        },
        "id": "Q_tJZbxsHUCj",
        "outputId": "ceb62055-e715-459c-8289-921bdeccd455"
      },
      "execution_count": null,
      "outputs": [
        {
          "output_type": "stream",
          "name": "stdout",
          "text": [
            "\u001b[1m1/1\u001b[0m \u001b[32m━━━━━━━━━━━━━━━━━━━━\u001b[0m\u001b[37m\u001b[0m \u001b[1m3s\u001b[0m 3s/step - loss: 81.6382 - mae: 7.4868 - mse: 81.6382\n",
            "Test Loss (MSE): 81.63819885253906\n",
            "Test MAE: 7.4867658615112305\n"
          ]
        }
      ]
    },
    {
      "cell_type": "code",
      "source": [],
      "metadata": {
        "id": "__AYnh0RNqh7"
      },
      "execution_count": null,
      "outputs": []
    },
    {
      "cell_type": "code",
      "source": [
        "# Step 7: Save the model\n",
        "model.save('brain_age_model_reduced_size_25entries.h5')\n"
      ],
      "metadata": {
        "colab": {
          "base_uri": "https://localhost:8080/"
        },
        "id": "AqlF2gBbHU-N",
        "outputId": "91ae246c-974b-4596-e830-bd6aa654dc49"
      },
      "execution_count": null,
      "outputs": [
        {
          "output_type": "stream",
          "name": "stderr",
          "text": [
            "WARNING:absl:You are saving your model as an HDF5 file via `model.save()` or `keras.saving.save_model(model)`. This file format is considered legacy. We recommend using instead the native Keras format, e.g. `model.save('my_model.keras')` or `keras.saving.save_model(model, 'my_model.keras')`. \n"
          ]
        }
      ]
    },
    {
      "cell_type": "code",
      "source": [
        "# Step 8: Predict brain age for a new test image\n",
        "def load_and_preprocess_image(image_path):\n",
        "    \"\"\"\n",
        "    Load and preprocess a single MRI image for prediction.\n",
        "\n",
        "    :param image_path: Path to the MRI image file\n",
        "    :return: Preprocessed image ready for prediction\n",
        "    \"\"\"\n",
        "    img = nib.load(image_path).get_fdata()\n",
        "\n",
        "    # Resize the image to 64x64 to match the model input size\n",
        "    img = np.resize(img, (64, 64))\n",
        "\n",
        "    # Add channel dimension (64, 64, 1)\n",
        "    img = img[..., np.newaxis]\n",
        "\n",
        "    # Normalize the image\n",
        "    img = img.astype('float32') / 255.0\n",
        "\n",
        "    # Add batch dimension (1, 64, 64, 1)\n",
        "    img = np.expand_dims(img, axis=0)\n",
        "\n",
        "    return img\n",
        "\n",
        "# Path to your test image\n",
        "test_image_path = '/content/drive/MyDrive/IXI-E0/IXI028-Guys-1038-T1.nii.gz'\n",
        "\n",
        "# Load and preprocess the test image\n",
        "preprocessed_image = load_and_preprocess_image(test_image_path)\n",
        "\n",
        "# Make a prediction\n",
        "predicted_age = model.predict(preprocessed_image)\n",
        "print(f\"Predicted Brain Age: {predicted_age[0][0]}\")\n"
      ],
      "metadata": {
        "colab": {
          "base_uri": "https://localhost:8080/"
        },
        "id": "R5ABZPXfIQfC",
        "outputId": "af798a4f-4d1e-423d-e7b9-030f06d4d618"
      },
      "execution_count": null,
      "outputs": [
        {
          "output_type": "stream",
          "name": "stdout",
          "text": [
            "\u001b[1m1/1\u001b[0m \u001b[32m━━━━━━━━━━━━━━━━━━━━\u001b[0m\u001b[37m\u001b[0m \u001b[1m0s\u001b[0m 41ms/step\n",
            "Predicted Brain Age: 27.462968826293945\n"
          ]
        }
      ]
    },
    {
      "cell_type": "markdown",
      "source": [],
      "metadata": {
        "id": "2pUCl2YVJAly"
      }
    },
    {
      "cell_type": "code",
      "source": [
        "import os\n",
        "import pandas as pd\n",
        "import numpy as np\n",
        "import nibabel as nib\n",
        "from skimage.transform import resize\n",
        "\n",
        "# 1. Load CSV file\n",
        "csv_file = '/content/drive/MyDrive/mini_proj(dataset).csv'  # Path to your CSV file\n",
        "df = pd.read_csv(csv_file)\n",
        "\n",
        "# 2. Define the folder containing NIfTI images\n",
        "nifti_folder = '/content/drive/MyDrive/IXI-E0'  # Path to your folder containing .nii.gz files\n",
        "\n",
        "# 3. Preprocessing Function to Load and Process Brain Images\n",
        "def load_and_preprocess_image(image_path, target_size=(128, 128)):\n",
        "    try:\n",
        "        # Load .nii.gz image using nibabel\n",
        "        image = nib.load(image_path).get_fdata()\n",
        "\n",
        "        # Check if the image has more than 2 dimensions (e.g., 3D image)\n",
        "        if image.ndim > 2:\n",
        "            image = image[:, :, 0]  # Take the first slice if 3D\n",
        "\n",
        "        # Resize the image to target size (128x128)\n",
        "        image_resized = resize(image, target_size, mode='constant', anti_aliasing=True)\n",
        "\n",
        "        # Normalize the image (standardize values between 0 and 1)\n",
        "        image_normalized = (image_resized - np.min(image_resized)) / (np.max(image_resized) - np.min(image_resized))\n",
        "\n",
        "        return image_normalized\n",
        "    except Exception as e:\n",
        "        print(f\"Error loading image {image_path}: {e}\")\n",
        "        return None\n",
        "\n",
        "# 4. Load and Preprocess Dataset\n",
        "image_paths = []\n",
        "ages = []\n",
        "\n",
        "for index, row in df.iterrows():\n",
        "    image_filename = row['New_Column']  # Filename of the image (e.g., IXI001-T1.nii.gz)\n",
        "    age = row['AGE']  # Corresponding age\n",
        "\n",
        "    # Construct the full path to the NIfTI file\n",
        "    image_path = os.path.join(nifti_folder, image_filename)\n",
        "\n",
        "    # Load and preprocess image\n",
        "    image = load_and_preprocess_image(image_path)\n",
        "\n",
        "    # Only add valid images to the dataset\n",
        "    if image is not None:\n",
        "        image_paths.append(image)\n",
        "        ages.append(age)\n",
        "\n",
        "# Convert lists to numpy arrays (X: images, y: ages)\n",
        "X = np.array(image_paths)\n",
        "y = np.array(ages)\n",
        "\n",
        "# Check the shape of X to confirm consistent dimensions\n",
        "print(\"Shape of X (images):\", X.shape)\n",
        "print(\"Shape of y (ages):\", y.shape)\n",
        "\n",
        "# At this point, X and y are ready for training or further preprocessing.\n"
      ],
      "metadata": {
        "colab": {
          "base_uri": "https://localhost:8080/"
        },
        "id": "LnJZlbT0oRM4",
        "outputId": "537fc9aa-3589-494c-c905-5739d536e1c1"
      },
      "execution_count": null,
      "outputs": [
        {
          "output_type": "stream",
          "name": "stdout",
          "text": [
            "Shape of X (images): (541, 128, 128)\n",
            "Shape of y (ages): (541,)\n"
          ]
        }
      ]
    },
    {
      "cell_type": "code",
      "source": [
        "from sklearn.model_selection import train_test_split\n",
        "\n",
        "# Split the data into training (80%) and testing (20%) sets\n",
        "X_train, X_test, y_train, y_test = train_test_split(X, y, test_size=0.2, random_state=42)\n",
        "\n",
        "print(\"Training set size:\", X_train.shape)\n",
        "print(\"Testing set size:\", X_test.shape)\n"
      ],
      "metadata": {
        "colab": {
          "base_uri": "https://localhost:8080/"
        },
        "id": "nhzSbjxkozSc",
        "outputId": "f33b5b7c-2a73-4d37-ebb6-c7c4847bff4e"
      },
      "execution_count": null,
      "outputs": [
        {
          "output_type": "stream",
          "name": "stdout",
          "text": [
            "Training set size: (432, 128, 128)\n",
            "Testing set size: (109, 128, 128)\n"
          ]
        }
      ]
    },
    {
      "cell_type": "code",
      "source": [
        "import tensorflow as tf\n",
        "from tensorflow.keras.models import Sequential\n",
        "from tensorflow.keras.layers import Conv2D, MaxPooling2D, Flatten, Dense, Dropout\n",
        "\n",
        "# Define the CNN model\n",
        "model = Sequential()\n",
        "\n",
        "# Input layer (Conv + Pool)\n",
        "model.add(Conv2D(32, (3, 3), activation='relu', input_shape=(128, 128, 1)))  # Assuming grayscale images\n",
        "model.add(MaxPooling2D(pool_size=(2, 2)))\n",
        "\n",
        "# Additional Conv layers\n",
        "model.add(Conv2D(64, (3, 3), activation='relu'))\n",
        "model.add(MaxPooling2D(pool_size=(2, 2)))\n",
        "\n",
        "# Flatten the data to feed into Dense layers\n",
        "model.add(Flatten())\n",
        "\n",
        "# Fully connected layers\n",
        "model.add(Dense(128, activation='relu'))\n",
        "model.add(Dropout(0.5))  # Add dropout for regularization\n",
        "model.add(Dense(64, activation='relu'))\n",
        "\n",
        "# Output layer (regression, so no activation function)\n",
        "model.add(Dense(1))\n",
        "\n",
        "# Compile the model\n",
        "model.compile(optimizer='adam', loss='mean_squared_error', metrics=['mae'])\n",
        "\n",
        "# Display model architecture\n",
        "model.summary()\n"
      ],
      "metadata": {
        "colab": {
          "base_uri": "https://localhost:8080/",
          "height": 473
        },
        "id": "5AEUVcMVqI7O",
        "outputId": "01bd71bb-01cf-4a9f-e8f9-f239bd715e1a"
      },
      "execution_count": null,
      "outputs": [
        {
          "output_type": "stream",
          "name": "stderr",
          "text": [
            "/usr/local/lib/python3.10/dist-packages/keras/src/layers/convolutional/base_conv.py:107: UserWarning: Do not pass an `input_shape`/`input_dim` argument to a layer. When using Sequential models, prefer using an `Input(shape)` object as the first layer in the model instead.\n",
            "  super().__init__(activity_regularizer=activity_regularizer, **kwargs)\n"
          ]
        },
        {
          "output_type": "display_data",
          "data": {
            "text/plain": [
              "\u001b[1mModel: \"sequential\"\u001b[0m\n"
            ],
            "text/html": [
              "<pre style=\"white-space:pre;overflow-x:auto;line-height:normal;font-family:Menlo,'DejaVu Sans Mono',consolas,'Courier New',monospace\"><span style=\"font-weight: bold\">Model: \"sequential\"</span>\n",
              "</pre>\n"
            ]
          },
          "metadata": {}
        },
        {
          "output_type": "display_data",
          "data": {
            "text/plain": [
              "┏━━━━━━━━━━━━━━━━━━━━━━━━━━━━━━━━━━━━━━┳━━━━━━━━━━━━━━━━━━━━━━━━━━━━━┳━━━━━━━━━━━━━━━━━┓\n",
              "┃\u001b[1m \u001b[0m\u001b[1mLayer (type)                        \u001b[0m\u001b[1m \u001b[0m┃\u001b[1m \u001b[0m\u001b[1mOutput Shape               \u001b[0m\u001b[1m \u001b[0m┃\u001b[1m \u001b[0m\u001b[1m        Param #\u001b[0m\u001b[1m \u001b[0m┃\n",
              "┡━━━━━━━━━━━━━━━━━━━━━━━━━━━━━━━━━━━━━━╇━━━━━━━━━━━━━━━━━━━━━━━━━━━━━╇━━━━━━━━━━━━━━━━━┩\n",
              "│ conv2d (\u001b[38;5;33mConv2D\u001b[0m)                      │ (\u001b[38;5;45mNone\u001b[0m, \u001b[38;5;34m126\u001b[0m, \u001b[38;5;34m126\u001b[0m, \u001b[38;5;34m32\u001b[0m)        │             \u001b[38;5;34m320\u001b[0m │\n",
              "├──────────────────────────────────────┼─────────────────────────────┼─────────────────┤\n",
              "│ max_pooling2d (\u001b[38;5;33mMaxPooling2D\u001b[0m)         │ (\u001b[38;5;45mNone\u001b[0m, \u001b[38;5;34m63\u001b[0m, \u001b[38;5;34m63\u001b[0m, \u001b[38;5;34m32\u001b[0m)          │               \u001b[38;5;34m0\u001b[0m │\n",
              "├──────────────────────────────────────┼─────────────────────────────┼─────────────────┤\n",
              "│ conv2d_1 (\u001b[38;5;33mConv2D\u001b[0m)                    │ (\u001b[38;5;45mNone\u001b[0m, \u001b[38;5;34m61\u001b[0m, \u001b[38;5;34m61\u001b[0m, \u001b[38;5;34m64\u001b[0m)          │          \u001b[38;5;34m18,496\u001b[0m │\n",
              "├──────────────────────────────────────┼─────────────────────────────┼─────────────────┤\n",
              "│ max_pooling2d_1 (\u001b[38;5;33mMaxPooling2D\u001b[0m)       │ (\u001b[38;5;45mNone\u001b[0m, \u001b[38;5;34m30\u001b[0m, \u001b[38;5;34m30\u001b[0m, \u001b[38;5;34m64\u001b[0m)          │               \u001b[38;5;34m0\u001b[0m │\n",
              "├──────────────────────────────────────┼─────────────────────────────┼─────────────────┤\n",
              "│ flatten (\u001b[38;5;33mFlatten\u001b[0m)                    │ (\u001b[38;5;45mNone\u001b[0m, \u001b[38;5;34m57600\u001b[0m)               │               \u001b[38;5;34m0\u001b[0m │\n",
              "├──────────────────────────────────────┼─────────────────────────────┼─────────────────┤\n",
              "│ dense (\u001b[38;5;33mDense\u001b[0m)                        │ (\u001b[38;5;45mNone\u001b[0m, \u001b[38;5;34m128\u001b[0m)                 │       \u001b[38;5;34m7,372,928\u001b[0m │\n",
              "├──────────────────────────────────────┼─────────────────────────────┼─────────────────┤\n",
              "│ dropout (\u001b[38;5;33mDropout\u001b[0m)                    │ (\u001b[38;5;45mNone\u001b[0m, \u001b[38;5;34m128\u001b[0m)                 │               \u001b[38;5;34m0\u001b[0m │\n",
              "├──────────────────────────────────────┼─────────────────────────────┼─────────────────┤\n",
              "│ dense_1 (\u001b[38;5;33mDense\u001b[0m)                      │ (\u001b[38;5;45mNone\u001b[0m, \u001b[38;5;34m64\u001b[0m)                  │           \u001b[38;5;34m8,256\u001b[0m │\n",
              "├──────────────────────────────────────┼─────────────────────────────┼─────────────────┤\n",
              "│ dense_2 (\u001b[38;5;33mDense\u001b[0m)                      │ (\u001b[38;5;45mNone\u001b[0m, \u001b[38;5;34m1\u001b[0m)                   │              \u001b[38;5;34m65\u001b[0m │\n",
              "└──────────────────────────────────────┴─────────────────────────────┴─────────────────┘\n"
            ],
            "text/html": [
              "<pre style=\"white-space:pre;overflow-x:auto;line-height:normal;font-family:Menlo,'DejaVu Sans Mono',consolas,'Courier New',monospace\">┏━━━━━━━━━━━━━━━━━━━━━━━━━━━━━━━━━━━━━━┳━━━━━━━━━━━━━━━━━━━━━━━━━━━━━┳━━━━━━━━━━━━━━━━━┓\n",
              "┃<span style=\"font-weight: bold\"> Layer (type)                         </span>┃<span style=\"font-weight: bold\"> Output Shape                </span>┃<span style=\"font-weight: bold\">         Param # </span>┃\n",
              "┡━━━━━━━━━━━━━━━━━━━━━━━━━━━━━━━━━━━━━━╇━━━━━━━━━━━━━━━━━━━━━━━━━━━━━╇━━━━━━━━━━━━━━━━━┩\n",
              "│ conv2d (<span style=\"color: #0087ff; text-decoration-color: #0087ff\">Conv2D</span>)                      │ (<span style=\"color: #00d7ff; text-decoration-color: #00d7ff\">None</span>, <span style=\"color: #00af00; text-decoration-color: #00af00\">126</span>, <span style=\"color: #00af00; text-decoration-color: #00af00\">126</span>, <span style=\"color: #00af00; text-decoration-color: #00af00\">32</span>)        │             <span style=\"color: #00af00; text-decoration-color: #00af00\">320</span> │\n",
              "├──────────────────────────────────────┼─────────────────────────────┼─────────────────┤\n",
              "│ max_pooling2d (<span style=\"color: #0087ff; text-decoration-color: #0087ff\">MaxPooling2D</span>)         │ (<span style=\"color: #00d7ff; text-decoration-color: #00d7ff\">None</span>, <span style=\"color: #00af00; text-decoration-color: #00af00\">63</span>, <span style=\"color: #00af00; text-decoration-color: #00af00\">63</span>, <span style=\"color: #00af00; text-decoration-color: #00af00\">32</span>)          │               <span style=\"color: #00af00; text-decoration-color: #00af00\">0</span> │\n",
              "├──────────────────────────────────────┼─────────────────────────────┼─────────────────┤\n",
              "│ conv2d_1 (<span style=\"color: #0087ff; text-decoration-color: #0087ff\">Conv2D</span>)                    │ (<span style=\"color: #00d7ff; text-decoration-color: #00d7ff\">None</span>, <span style=\"color: #00af00; text-decoration-color: #00af00\">61</span>, <span style=\"color: #00af00; text-decoration-color: #00af00\">61</span>, <span style=\"color: #00af00; text-decoration-color: #00af00\">64</span>)          │          <span style=\"color: #00af00; text-decoration-color: #00af00\">18,496</span> │\n",
              "├──────────────────────────────────────┼─────────────────────────────┼─────────────────┤\n",
              "│ max_pooling2d_1 (<span style=\"color: #0087ff; text-decoration-color: #0087ff\">MaxPooling2D</span>)       │ (<span style=\"color: #00d7ff; text-decoration-color: #00d7ff\">None</span>, <span style=\"color: #00af00; text-decoration-color: #00af00\">30</span>, <span style=\"color: #00af00; text-decoration-color: #00af00\">30</span>, <span style=\"color: #00af00; text-decoration-color: #00af00\">64</span>)          │               <span style=\"color: #00af00; text-decoration-color: #00af00\">0</span> │\n",
              "├──────────────────────────────────────┼─────────────────────────────┼─────────────────┤\n",
              "│ flatten (<span style=\"color: #0087ff; text-decoration-color: #0087ff\">Flatten</span>)                    │ (<span style=\"color: #00d7ff; text-decoration-color: #00d7ff\">None</span>, <span style=\"color: #00af00; text-decoration-color: #00af00\">57600</span>)               │               <span style=\"color: #00af00; text-decoration-color: #00af00\">0</span> │\n",
              "├──────────────────────────────────────┼─────────────────────────────┼─────────────────┤\n",
              "│ dense (<span style=\"color: #0087ff; text-decoration-color: #0087ff\">Dense</span>)                        │ (<span style=\"color: #00d7ff; text-decoration-color: #00d7ff\">None</span>, <span style=\"color: #00af00; text-decoration-color: #00af00\">128</span>)                 │       <span style=\"color: #00af00; text-decoration-color: #00af00\">7,372,928</span> │\n",
              "├──────────────────────────────────────┼─────────────────────────────┼─────────────────┤\n",
              "│ dropout (<span style=\"color: #0087ff; text-decoration-color: #0087ff\">Dropout</span>)                    │ (<span style=\"color: #00d7ff; text-decoration-color: #00d7ff\">None</span>, <span style=\"color: #00af00; text-decoration-color: #00af00\">128</span>)                 │               <span style=\"color: #00af00; text-decoration-color: #00af00\">0</span> │\n",
              "├──────────────────────────────────────┼─────────────────────────────┼─────────────────┤\n",
              "│ dense_1 (<span style=\"color: #0087ff; text-decoration-color: #0087ff\">Dense</span>)                      │ (<span style=\"color: #00d7ff; text-decoration-color: #00d7ff\">None</span>, <span style=\"color: #00af00; text-decoration-color: #00af00\">64</span>)                  │           <span style=\"color: #00af00; text-decoration-color: #00af00\">8,256</span> │\n",
              "├──────────────────────────────────────┼─────────────────────────────┼─────────────────┤\n",
              "│ dense_2 (<span style=\"color: #0087ff; text-decoration-color: #0087ff\">Dense</span>)                      │ (<span style=\"color: #00d7ff; text-decoration-color: #00d7ff\">None</span>, <span style=\"color: #00af00; text-decoration-color: #00af00\">1</span>)                   │              <span style=\"color: #00af00; text-decoration-color: #00af00\">65</span> │\n",
              "└──────────────────────────────────────┴─────────────────────────────┴─────────────────┘\n",
              "</pre>\n"
            ]
          },
          "metadata": {}
        },
        {
          "output_type": "display_data",
          "data": {
            "text/plain": [
              "\u001b[1m Total params: \u001b[0m\u001b[38;5;34m7,400,065\u001b[0m (28.23 MB)\n"
            ],
            "text/html": [
              "<pre style=\"white-space:pre;overflow-x:auto;line-height:normal;font-family:Menlo,'DejaVu Sans Mono',consolas,'Courier New',monospace\"><span style=\"font-weight: bold\"> Total params: </span><span style=\"color: #00af00; text-decoration-color: #00af00\">7,400,065</span> (28.23 MB)\n",
              "</pre>\n"
            ]
          },
          "metadata": {}
        },
        {
          "output_type": "display_data",
          "data": {
            "text/plain": [
              "\u001b[1m Trainable params: \u001b[0m\u001b[38;5;34m7,400,065\u001b[0m (28.23 MB)\n"
            ],
            "text/html": [
              "<pre style=\"white-space:pre;overflow-x:auto;line-height:normal;font-family:Menlo,'DejaVu Sans Mono',consolas,'Courier New',monospace\"><span style=\"font-weight: bold\"> Trainable params: </span><span style=\"color: #00af00; text-decoration-color: #00af00\">7,400,065</span> (28.23 MB)\n",
              "</pre>\n"
            ]
          },
          "metadata": {}
        },
        {
          "output_type": "display_data",
          "data": {
            "text/plain": [
              "\u001b[1m Non-trainable params: \u001b[0m\u001b[38;5;34m0\u001b[0m (0.00 B)\n"
            ],
            "text/html": [
              "<pre style=\"white-space:pre;overflow-x:auto;line-height:normal;font-family:Menlo,'DejaVu Sans Mono',consolas,'Courier New',monospace\"><span style=\"font-weight: bold\"> Non-trainable params: </span><span style=\"color: #00af00; text-decoration-color: #00af00\">0</span> (0.00 B)\n",
              "</pre>\n"
            ]
          },
          "metadata": {}
        }
      ]
    },
    {
      "cell_type": "code",
      "source": [
        "# Data Augmentation\n",
        "from tensorflow.keras.preprocessing.image import ImageDataGenerator\n",
        "\n",
        "# Data Augmentation\n",
        "datagen = ImageDataGenerator(\n",
        "    rotation_range=20,\n",
        "    width_shift_range=0.2,\n",
        "    height_shift_range=0.2,\n",
        "    shear_range=0.2,\n",
        "    zoom_range=0.2,\n",
        "    horizontal_flip=True,\n",
        "    fill_mode='nearest'\n",
        ")\n",
        "\n",
        "\n",
        "# Train the model\n",
        "history = model.fit(X_train, y_train, epochs=10, batch_size=16, validation_split=0.2)\n",
        "\n",
        "# Save the model\n",
        "model.save('brain_age.h5')\n"
      ],
      "metadata": {
        "colab": {
          "base_uri": "https://localhost:8080/"
        },
        "id": "nCsc5KxlqQZR",
        "outputId": "c3feb940-80b6-47da-be21-d230d71f4b7d"
      },
      "execution_count": null,
      "outputs": [
        {
          "output_type": "stream",
          "name": "stdout",
          "text": [
            "Epoch 1/10\n",
            "\u001b[1m22/22\u001b[0m \u001b[32m━━━━━━━━━━━━━━━━━━━━\u001b[0m\u001b[37m\u001b[0m \u001b[1m13s\u001b[0m 407ms/step - loss: 1693.9105 - mae: 35.9664 - val_loss: 503.4104 - val_mae: 17.9432\n",
            "Epoch 2/10\n",
            "\u001b[1m22/22\u001b[0m \u001b[32m━━━━━━━━━━━━━━━━━━━━\u001b[0m\u001b[37m\u001b[0m \u001b[1m10s\u001b[0m 481ms/step - loss: 526.6729 - mae: 19.1065 - val_loss: 266.2325 - val_mae: 14.1532\n",
            "Epoch 3/10\n",
            "\u001b[1m22/22\u001b[0m \u001b[32m━━━━━━━━━━━━━━━━━━━━\u001b[0m\u001b[37m\u001b[0m \u001b[1m18s\u001b[0m 361ms/step - loss: 362.8540 - mae: 16.0698 - val_loss: 275.7988 - val_mae: 14.4804\n",
            "Epoch 4/10\n",
            "\u001b[1m22/22\u001b[0m \u001b[32m━━━━━━━━━━━━━━━━━━━━\u001b[0m\u001b[37m\u001b[0m \u001b[1m12s\u001b[0m 438ms/step - loss: 318.2534 - mae: 15.3414 - val_loss: 254.8164 - val_mae: 13.5447\n",
            "Epoch 5/10\n",
            "\u001b[1m22/22\u001b[0m \u001b[32m━━━━━━━━━━━━━━━━━━━━\u001b[0m\u001b[37m\u001b[0m \u001b[1m11s\u001b[0m 487ms/step - loss: 287.6437 - mae: 13.9061 - val_loss: 253.9759 - val_mae: 13.0743\n",
            "Epoch 6/10\n",
            "\u001b[1m22/22\u001b[0m \u001b[32m━━━━━━━━━━━━━━━━━━━━\u001b[0m\u001b[37m\u001b[0m \u001b[1m20s\u001b[0m 452ms/step - loss: 310.2201 - mae: 14.7008 - val_loss: 256.4438 - val_mae: 13.8137\n",
            "Epoch 7/10\n",
            "\u001b[1m22/22\u001b[0m \u001b[32m━━━━━━━━━━━━━━━━━━━━\u001b[0m\u001b[37m\u001b[0m \u001b[1m11s\u001b[0m 479ms/step - loss: 343.4365 - mae: 15.5281 - val_loss: 268.7775 - val_mae: 14.1652\n",
            "Epoch 8/10\n",
            "\u001b[1m22/22\u001b[0m \u001b[32m━━━━━━━━━━━━━━━━━━━━\u001b[0m\u001b[37m\u001b[0m \u001b[1m20s\u001b[0m 446ms/step - loss: 334.8232 - mae: 15.3671 - val_loss: 273.6476 - val_mae: 12.3891\n",
            "Epoch 9/10\n",
            "\u001b[1m22/22\u001b[0m \u001b[32m━━━━━━━━━━━━━━━━━━━━\u001b[0m\u001b[37m\u001b[0m \u001b[1m11s\u001b[0m 482ms/step - loss: 261.3729 - mae: 13.4940 - val_loss: 241.4536 - val_mae: 12.0122\n",
            "Epoch 10/10\n",
            "\u001b[1m22/22\u001b[0m \u001b[32m━━━━━━━━━━━━━━━━━━━━\u001b[0m\u001b[37m\u001b[0m \u001b[1m20s\u001b[0m 435ms/step - loss: 280.4986 - mae: 14.0621 - val_loss: 284.3498 - val_mae: 14.5149\n"
          ]
        },
        {
          "output_type": "stream",
          "name": "stderr",
          "text": [
            "WARNING:absl:You are saving your model as an HDF5 file via `model.save()` or `keras.saving.save_model(model)`. This file format is considered legacy. We recommend using instead the native Keras format, e.g. `model.save('my_model.keras')` or `keras.saving.save_model(model, 'my_model.keras')`. \n"
          ]
        }
      ]
    },
    {
      "cell_type": "code",
      "source": [
        "# Evaluate on test set\n",
        "test_loss, test_mae = model.evaluate(X_test, y_test)\n",
        "print(\"Test Mean Absolute Error:\", test_mae)\n"
      ],
      "metadata": {
        "colab": {
          "base_uri": "https://localhost:8080/"
        },
        "id": "Kq-mF1Yuqwgy",
        "outputId": "a7bc99ca-e473-403e-dc83-8ab04b238cd2"
      },
      "execution_count": null,
      "outputs": [
        {
          "output_type": "stream",
          "name": "stdout",
          "text": [
            "\u001b[1m4/4\u001b[0m \u001b[32m━━━━━━━━━━━━━━━━━━━━\u001b[0m\u001b[37m\u001b[0m \u001b[1m1s\u001b[0m 147ms/step - loss: 268.2308 - mae: 13.2466\n",
            "Test Mean Absolute Error: 14.019279479980469\n"
          ]
        }
      ]
    },
    {
      "cell_type": "code",
      "source": [
        "predictions = model.predict(X_test)\n",
        "\n",
        "# Display some predictions\n",
        "for i in range(5):\n",
        "    print(f\"True Age: {y_test[i]}, Predicted Age: {predictions[i][0]}\")\n"
      ],
      "metadata": {
        "colab": {
          "base_uri": "https://localhost:8080/"
        },
        "id": "cj0PtfiYqyQs",
        "outputId": "312cca83-058f-4508-9e37-374f5ba7db5c"
      },
      "execution_count": null,
      "outputs": [
        {
          "output_type": "stream",
          "name": "stdout",
          "text": [
            "\u001b[1m4/4\u001b[0m \u001b[32m━━━━━━━━━━━━━━━━━━━━\u001b[0m\u001b[37m\u001b[0m \u001b[1m1s\u001b[0m 177ms/step\n",
            "True Age: 44.91991786, Predicted Age: 51.96307373046875\n",
            "True Age: 24.85420945, Predicted Age: 56.98404312133789\n",
            "True Age: 58.56810404, Predicted Age: 53.73469543457031\n",
            "True Age: 31.89596167, Predicted Age: 52.840206146240234\n",
            "True Age: 70.51882272, Predicted Age: 50.36357498168945\n"
          ]
        }
      ]
    },
    {
      "cell_type": "code",
      "source": [
        "import os\n",
        "import numpy as np\n",
        "import nibabel as nib\n",
        "from skimage.transform import resize\n",
        "import tensorflow as tf\n",
        "\n",
        "# Define the function to load and preprocess the test image\n",
        "def load_and_preprocess_image(image_path, target_size=(128, 128)):\n",
        "    try:\n",
        "        # Load the .nii.gz image using nibabel\n",
        "        image = nib.load(image_path).get_fdata()\n",
        "\n",
        "        # Check if the image has more than 2 dimensions (e.g., 3D image)\n",
        "        if image.ndim > 2:\n",
        "            image = image[:, :, 0]  # Take the first slice if 3D\n",
        "\n",
        "        # Resize the image to target size (128x128)\n",
        "        image_resized = resize(image, target_size, mode='constant', anti_aliasing=True)\n",
        "\n",
        "        # Normalize the image (standardize values between 0 and 1)\n",
        "        image_normalized = (image_resized - np.min(image_resized)) / (np.max(image_resized) - np.min(image_resized))\n",
        "\n",
        "        # Add a new axis to make it compatible with the model input shape (128, 128, 1)\n",
        "        image_normalized = np.expand_dims(image_normalized, axis=-1)\n",
        "\n",
        "        return image_normalized\n",
        "    except Exception as e:\n",
        "        print(f\"Error loading image {image_path}: {e}\")\n",
        "        return None\n",
        "\n",
        "# Load the trained model\n",
        "model = tf.keras.models.load_model('brain_age_model.h5')\n",
        "\n",
        "# Specify the path to the test image\n",
        "test_image_path = '/content/drive/MyDrive/IXI-E0/IXI028-Guys-1038-T1.nii.gz'  # Replace with your test image path\n",
        "\n",
        "# Load and preprocess the test image\n",
        "test_image = load_and_preprocess_image(test_image_path)\n",
        "\n",
        "# Check if the image was loaded successfully\n",
        "if test_image is not None:\n",
        "    # Add a batch dimension to the input (1, 128, 128, 1)\n",
        "    test_image = np.expand_dims(test_image, axis=0)\n",
        "\n",
        "    # Make the prediction\n",
        "    predicted_age = model.predict(test_image)\n",
        "\n",
        "    # Print the predicted brain age\n",
        "    print(f\"Predicted Brain Age: {predicted_age[0][0]}\")\n",
        "else:\n",
        "    print(\"Failed to preprocess the test image.\")\n"
      ],
      "metadata": {
        "colab": {
          "base_uri": "https://localhost:8080/"
        },
        "id": "pfsk-hrlrIKH",
        "outputId": "4d5f0a7c-23d6-44ee-b1a6-023f51f12bc9"
      },
      "execution_count": null,
      "outputs": [
        {
          "output_type": "stream",
          "name": "stderr",
          "text": [
            "WARNING:absl:Compiled the loaded model, but the compiled metrics have yet to be built. `model.compile_metrics` will be empty until you train or evaluate the model.\n"
          ]
        },
        {
          "output_type": "stream",
          "name": "stdout",
          "text": [
            "\u001b[1m1/1\u001b[0m \u001b[32m━━━━━━━━━━━━━━━━━━━━\u001b[0m\u001b[37m\u001b[0m \u001b[1m0s\u001b[0m 112ms/step\n",
            "Predicted Brain Age: 37.87424087524414\n"
          ]
        }
      ]
    },
    {
      "cell_type": "code",
      "source": [],
      "metadata": {
        "id": "m-MPuBYHLm7-"
      },
      "execution_count": null,
      "outputs": []
    }
  ]
}